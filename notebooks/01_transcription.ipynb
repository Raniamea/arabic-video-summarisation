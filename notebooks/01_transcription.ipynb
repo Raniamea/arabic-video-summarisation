{
  "nbformat": 4,
  "nbformat_minor": 0,
  "metadata": {
    "colab": {
      "provenance": [],
      "gpuType": "T4",
      "authorship_tag": "ABX9TyNzD6yoTBGou+5fdlO3kyD8",
      "include_colab_link": true
    },
    "kernelspec": {
      "name": "python3",
      "display_name": "Python 3"
    },
    "language_info": {
      "name": "python"
    },
    "accelerator": "GPU"
  },
  "cells": [
    {
      "cell_type": "markdown",
      "metadata": {
        "id": "view-in-github",
        "colab_type": "text"
      },
      "source": [
        "<a href=\"https://colab.research.google.com/github/Raniamea/arabic-video-summarisation/blob/main/Transcribe.ipynb\" target=\"_parent\"><img src=\"https://colab.research.google.com/assets/colab-badge.svg\" alt=\"Open In Colab\"/></a>"
      ]
    },
    {
      "cell_type": "code",
      "execution_count": null,
      "metadata": {
        "id": "aiQiHayhekv_"
      },
      "outputs": [],
      "source": [
        "from google.colab import drive\n",
        "drive.mount('/content/drive', force_remount=True)"
      ]
    },
    {
      "cell_type": "code",
      "source": [
        "!pip install -q git+https://github.com/openai/whisper.git\n",
        "!pip install -q torch torchaudio --index-url https://download.pytorch.org/whl/cu118  # GPU version\n"
      ],
      "metadata": {
        "id": "aHm_nQY4kjaP"
      },
      "execution_count": null,
      "outputs": []
    },
    {
      "cell_type": "code",
      "source": [
        "import whisper\n",
        "\n",
        "# Load the Whisper model (base or small are good options)\n",
        "model = whisper.load_model(\"base\")  # or \"small\" for better accuracy\n",
        "\n",
        "# Path to your video inside Google Drive\n",
        "video_path = \"/content/drive/MyDrive/ArabicVideoSummariser/videos/News1.mp4\"\n",
        "\n",
        "# Run transcription\n",
        "result = model.transcribe(video_path)\n",
        "\n",
        "# Show transcript\n",
        "print(result['text'])"
      ],
      "metadata": {
        "id": "4ohmf8d9k0je"
      },
      "execution_count": null,
      "outputs": []
    }
  ]
}
