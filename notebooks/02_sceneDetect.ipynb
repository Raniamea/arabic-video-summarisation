{
  "nbformat": 4,
  "nbformat_minor": 0,
  "metadata": {
    "colab": {
      "provenance": [],
      "gpuType": "T4",
      "authorship_tag": "ABX9TyP/5Fx41mCglQurwp2M6zZv",
      "include_colab_link": true
    },
    "kernelspec": {
      "name": "python3",
      "display_name": "Python 3"
    },
    "language_info": {
      "name": "python"
    },
    "accelerator": "GPU"
  },
  "cells": [
    {
      "cell_type": "markdown",
      "metadata": {
        "id": "view-in-github",
        "colab_type": "text"
      },
      "source": [
        "<a href=\"https://colab.research.google.com/github/Raniamea/arabic-video-summarisation/blob/main/notebooks/02_sceneDetect.ipynb\" target=\"_parent\"><img src=\"https://colab.research.google.com/assets/colab-badge.svg\" alt=\"Open In Colab\"/></a>"
      ]
    },
    {
      "cell_type": "code",
      "source": [
        "# Reinstall compatible base stack\n",
        "# Step 1: Torch + CUDA 11.8 (Compatible with Whisper and BLIP2)\n",
        "#!pip install torch==2.0.1+cu118 torchaudio==2.0.2 --index-url https://download.pytorch.org/whl/cu118\n",
        "# Step 2: NumPy\n",
        "!pip install numpy==1.26.4 --force-reinstall --no-cache-dir\n",
        "#!pip install scipy scikit-learn sacremoses\n",
        "# Step 4: OpenCV and SceneDetect\n",
        "#!pip install opencv-python==4.7.0.72 opencv-contrib-python==4.7.0.72 scenedetect==0.6.6\n",
        "# Step 5: Install sentence-transformers (frozen) without breaking NumPy\n",
        "#!pip install transformers==4.40.1 sentence-transformers  tokenizers sacremoses\n",
        "#!pip install scipy==1.9.3 scikit-learn==1.1.3\n",
        "# Step 6: Utilities BLIP-2 support\n",
        "#!pip install librosa==0.10.0.post2 Pillow accelerate bitsandbytes\n"
      ],
      "metadata": {
        "id": "RdHzTtBJvPEm"
      },
      "execution_count": null,
      "outputs": []
    },
    {
      "cell_type": "code",
      "source": [
        "import os\n",
        "# Define base paths\n",
        "base_path = \"/content/drive/MyDrive/ArabicVideoSummariser\"\n",
        "videos_path = os.path.join(base_path, \"videos\")\n",
        "captions_path = os.path.join(base_path, \"captions\")\n",
        "keyframes_path = os.path.join(base_path, \"keyframes\")\n",
        "\n",
        "video_path = os.path.join(videos_path, video_filename)\n",
        "video_name = os.path.splitext(video_filename)[0]\n",
        "keyframe_dir = os.path.join(keyframes_path, video_name)\n",
        "os.makedirs(keyframe_dir, exist_ok=True)\n",
        "captions_json_path = os.path.join(captions_path, f\"{video_name}.json\")"
      ],
      "metadata": {
        "id": "zsXhIfDs4kO5"
      },
      "execution_count": null,
      "outputs": []
    },
    {
      "cell_type": "code",
      "source": [],
      "metadata": {
        "id": "hBfFY4xeKa5n"
      },
      "execution_count": null,
      "outputs": []
    }
  ]
}