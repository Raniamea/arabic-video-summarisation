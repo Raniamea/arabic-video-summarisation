{
  "nbformat": 4,
  "nbformat_minor": 0,
  "metadata": {
    "colab": {
      "provenance": [],
      "gpuType": "T4",
      "authorship_tag": "ABX9TyOY3t3MtQK7wH5SFwCGtp9B",
      "include_colab_link": true
    },
    "kernelspec": {
      "name": "python3",
      "display_name": "Python 3"
    },
    "language_info": {
      "name": "python"
    },
    "accelerator": "GPU"
  },
  "cells": [
    {
      "cell_type": "markdown",
      "metadata": {
        "id": "view-in-github",
        "colab_type": "text"
      },
      "source": [
        "<a href=\"https://colab.research.google.com/github/Raniamea/arabic-video-summarisation/blob/main/notebooks/02_object_detection.ipynb\" target=\"_parent\"><img src=\"https://colab.research.google.com/assets/colab-badge.svg\" alt=\"Open In Colab\"/></a>"
      ]
    },
    {
      "cell_type": "code",
      "source": [
        "# Install YOLOv8\n",
        "!pip install -q ultralytics\n",
        "from ultralytics import YOLO\n"
      ],
      "metadata": {
        "id": "NNKARG5VJqua"
      },
      "execution_count": null,
      "outputs": []
    },
    {
      "cell_type": "code",
      "source": [
        "# Load YOLOv8 model\n",
        "model = YOLO(\"yolov8n.pt\")  # Use 'n' for speed, 's' or 'm' for better accuracy\n"
      ],
      "metadata": {
        "id": "X0Ub8WAjJwjJ"
      },
      "execution_count": null,
      "outputs": []
    },
    {
      "cell_type": "code",
      "source": [
        "import os\n",
        "\n",
        "# Input and output folders\n",
        "input_dir = \"/content/drive/MyDrive/ArabicVideoSummariser/videos\"\n",
        "output_dir = \"/content/drive/MyDrive/ArabicVideoSummariser/objects\"\n",
        "os.makedirs(output_dir, exist_ok=True)\n",
        "\n",
        "# Loop through all video files\n",
        "video_files = [f for f in os.listdir(input_dir) if f.lower().endswith(('.mp4', '.avi', '.mov'))]\n",
        "\n",
        "for filename in video_files:\n",
        "    input_path = os.path.join(input_dir, filename)\n",
        "    print(f\"🔍 Processing: {filename}\")\n",
        "\n",
        "    # Run object detection\n",
        "    results = model.predict(\n",
        "        source=input_path,\n",
        "        save=True,\n",
        "        save_txt=True,\n",
        "        project=output_dir,\n",
        "        name=os.path.splitext(filename)[0],  # Create a folder with video name\n",
        "        exist_ok=True\n",
        "    )\n",
        "\n",
        "    print(f\"✅ Saved results for: {filename}\")\n"
      ],
      "metadata": {
        "id": "hBfFY4xeKa5n"
      },
      "execution_count": null,
      "outputs": []
    }
  ]
}