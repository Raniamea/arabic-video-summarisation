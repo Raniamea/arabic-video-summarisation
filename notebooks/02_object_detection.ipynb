# Install YOLOv8
!pip install -q ultralytics
from ultralytics import YOLO
