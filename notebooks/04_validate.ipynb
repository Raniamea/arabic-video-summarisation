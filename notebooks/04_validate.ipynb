{
  "nbformat": 4,
  "nbformat_minor": 0,
  "metadata": {
    "colab": {
      "provenance": [],
      "gpuType": "A100",
      "authorship_tag": "ABX9TyMNslEU5rwUU1uUpzr4GSfT",
      "include_colab_link": true
    },
    "kernelspec": {
      "name": "python3",
      "display_name": "Python 3"
    },
    "language_info": {
      "name": "python"
    },
    "accelerator": "GPU"
  },
  "cells": [
    {
      "cell_type": "markdown",
      "metadata": {
        "id": "view-in-github",
        "colab_type": "text"
      },
      "source": [
        "<a href=\"https://colab.research.google.com/github/Raniamea/arabic-video-summarisation/blob/main/notebooks/04_validate.ipynb\" target=\"_parent\"><img src=\"https://colab.research.google.com/assets/colab-badge.svg\" alt=\"Open In Colab\"/></a>"
      ]
    },
    {
      "cell_type": "markdown",
      "source": [
        "#  Transcript Validation using CAMeLBERT-MSA & Arabic Captions\n",
        "Compare a cleaned Arabic ASR transcript against scene captions to improve transcript accuracy.\n",
        "- Uses `diac`, `lemma`, `pos` from transcript segments\n",
        "- Uses Arabic captions generated previously\n",
        "- CAMeLBERT-MSA for semantic validation\n",
        "- Sliding window for misalignment\n",
        "- Outputs: **replace**, **append**, and **flag** transcript versions"
      ],
      "metadata": {
        "id": "oavdO_LK9djT"
      }
    },
    {
      "cell_type": "code",
      "source": [
        "# ✅ Install dependencies\n",
        "!pip install -q numpy==1.23.5 transformers==4.35.2 sentence-transformers==2.2.2"
      ],
      "metadata": {
        "id": "MjsnhOjY_lU7"
      },
      "execution_count": null,
      "outputs": []
    },
    {
      "cell_type": "code",
      "source": [
        "# ✅ Imports\n",
        "import json\n",
        "from sentence_transformers import SentenceTransformer, util\n",
        "from tqdm import tqdm\n",
        "import numpy as np"
      ],
      "metadata": {
        "id": "RkpFfleJ_7OB"
      },
      "execution_count": null,
      "outputs": []
    },
    {
      "cell_type": "code",
      "execution_count": null,
      "metadata": {
        "id": "Yl1XTTNUvuKv"
      },
      "outputs": [],
      "source": [
        "# ✅ Load Files\n",
        "with open('/content/Almasbagha_CleanTranscript.json', 'r', encoding='utf-8') as f:\n",
        "    transcript = json.load(f)\n",
        "with open('/content/Almasbagha_visualcaptions.json', 'r', encoding='utf-8') as f:\n",
        "    captions = json.load(f)"
      ]
    },
    {
      "cell_type": "code",
      "source": [
        "# ✅ Setup Model\n",
        "model = SentenceTransformer('CAMeL-Lab/bert-base-camelbert-msa')"
      ],
      "metadata": {
        "id": "5fdtGOMN9tx-"
      },
      "execution_count": null,
      "outputs": []
    },
    {
      "cell_type": "code",
      "source": [
        "# ✅ Validation config\n",
        "WINDOW_SIZE = 3\n",
        "THRESHOLD_REPLACE = 0.75\n",
        "THRESHOLD_APPEND = 0.60"
      ],
      "metadata": {
        "id": "C_qHk_PR9xxs"
      },
      "execution_count": null,
      "outputs": []
    },
    {
      "cell_type": "code",
      "source": [
        "# ✅ Helper: Sliding window match\n",
        "def sliding_match(transcript, captions):\n",
        "    updated_replace, updated_append, updated_flag = [], [], []\n",
        "\n",
        "    for i in tqdm(range(len(transcript) - WINDOW_SIZE + 1)):\n",
        "        chunk = transcript[i:i+WINDOW_SIZE]\n",
        "        chunk_text = ' '.join([seg['diac'] for seg in chunk])\n",
        "\n",
        "        best_sim = -1\n",
        "        best_cap = None\n",
        "        for cap in captions:\n",
        "            cap_text = cap['caption_ar']\n",
        "            sim = util.cos_sim(model.encode(chunk_text), model.encode(cap_text)).item()\n",
        "            if sim > best_sim:\n",
        "                best_sim = sim\n",
        "                best_cap = cap_text\n",
        "\n",
        "        for seg in chunk:\n",
        "            if best_sim >= THRESHOLD_REPLACE:\n",
        "                updated_replace.append({**seg, 'adjusted': best_cap, 'sim': best_sim})\n",
        "            elif best_sim >= THRESHOLD_APPEND:\n",
        "                updated_append.append({**seg, 'adjusted': seg['diac'] + ' / ' + best_cap, 'sim': best_sim})\n",
        "            else:\n",
        "                updated_flag.append({**seg, 'flag': 'low_sim', 'sim': best_sim})\n",
        "\n",
        "    return updated_replace, updated_append, updated_flag"
      ],
      "metadata": {
        "id": "ZZAd1oYJ91o0"
      },
      "execution_count": null,
      "outputs": []
    },
    {
      "cell_type": "code",
      "source": [
        "# ✅ Run matching\n",
        "replace, append, flag = sliding_match(transcript, captions)\n",
        "\n",
        "with open('/content/Almasbagha_transcript_replace.json', 'w', encoding='utf-8') as f:\n",
        "    json.dump(replace, f, ensure_ascii=False, indent=2)\n",
        "with open('/content/Almasbagha_transcript_append.json', 'w', encoding='utf-8') as f:\n",
        "    json.dump(append, f, ensure_ascii=False, indent=2)\n",
        "with open('/content/Almasbagha_transcript_flag.json', 'w', encoding='utf-8') as f:\n",
        "    json.dump(flag, f, ensure_ascii=False, indent=2)"
      ],
      "metadata": {
        "id": "8A9pFLxP95YW"
      },
      "execution_count": null,
      "outputs": []
    }
  ]
}