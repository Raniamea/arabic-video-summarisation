{
  "nbformat": 4,
  "nbformat_minor": 0,
  "metadata": {
    "colab": {
      "provenance": [],
      "gpuType": "T4",
      "authorship_tag": "ABX9TyNzD6yoTBGou+5fdlO3kyD8",
      "include_colab_link": true
    },
    "kernelspec": {
      "name": "python3",
      "display_name": "Python 3"
    },
    "language_info": {
      "name": "python"
    },
    "accelerator": "GPU"
  },
  "cells": [
    {
      "cell_type": "markdown",
      "metadata": {
        "id": "view-in-github",
        "colab_type": "text"
      },
      "source": [
        "<a href=\"https://colab.research.google.com/github/Raniamea/arabic-video-summarisation/blob/main/Transcribe.ipynb\" target=\"_parent\"><img src=\"https://colab.research.google.com/assets/colab-badge.svg\" alt=\"Open In Colab\"/></a>"
      ]
    },
    {
      "cell_type": "code",
      "execution_count": 6,
      "metadata": {
        "colab": {
          "base_uri": "https://localhost:8080/"
        },
        "id": "aiQiHayhekv_",
        "outputId": "32c449c4-73b2-4d29-c7d5-225412570164"
      },
      "outputs": [
        {
          "output_type": "stream",
          "name": "stdout",
          "text": [
            "Mounted at /content/drive\n"
          ]
        }
      ],
      "source": [
        "from google.colab import drive\n",
        "drive.mount('/content/drive', force_remount=True)"
      ]
    },
    {
      "cell_type": "code",
      "source": [
        "!pip install -q git+https://github.com/openai/whisper.git\n",
        "!pip install -q torch torchaudio --index-url https://download.pytorch.org/whl/cu118  # GPU version\n"
      ],
      "metadata": {
        "colab": {
          "base_uri": "https://localhost:8080/"
        },
        "id": "aHm_nQY4kjaP",
        "outputId": "8879ac31-6984-4abb-d1e7-8d008a0b0346"
      },
      "execution_count": 7,
      "outputs": [
        {
          "output_type": "stream",
          "name": "stdout",
          "text": [
            "  Installing build dependencies ... \u001b[?25l\u001b[?25hdone\n",
            "  Getting requirements to build wheel ... \u001b[?25l\u001b[?25hdone\n",
            "  Preparing metadata (pyproject.toml) ... \u001b[?25l\u001b[?25hdone\n",
            "\u001b[2K   \u001b[90m━━━━━━━━━━━━━━━━━━━━━━━━━━━━━━━━━━━━━━━━\u001b[0m \u001b[32m363.4/363.4 MB\u001b[0m \u001b[31m4.1 MB/s\u001b[0m eta \u001b[36m0:00:00\u001b[0m\n",
            "\u001b[2K   \u001b[90m━━━━━━━━━━━━━━━━━━━━━━━━━━━━━━━━━━━━━━━━\u001b[0m \u001b[32m13.8/13.8 MB\u001b[0m \u001b[31m107.8 MB/s\u001b[0m eta \u001b[36m0:00:00\u001b[0m\n",
            "\u001b[2K   \u001b[90m━━━━━━━━━━━━━━━━━━━━━━━━━━━━━━━━━━━━━━━━\u001b[0m \u001b[32m24.6/24.6 MB\u001b[0m \u001b[31m93.4 MB/s\u001b[0m eta \u001b[36m0:00:00\u001b[0m\n",
            "\u001b[2K   \u001b[90m━━━━━━━━━━━━━━━━━━━━━━━━━━━━━━━━━━━━━━━━\u001b[0m \u001b[32m883.7/883.7 kB\u001b[0m \u001b[31m59.2 MB/s\u001b[0m eta \u001b[36m0:00:00\u001b[0m\n",
            "\u001b[2K   \u001b[90m━━━━━━━━━━━━━━━━━━━━━━━━━━━━━━━━━━━━━━━━\u001b[0m \u001b[32m664.8/664.8 MB\u001b[0m \u001b[31m2.7 MB/s\u001b[0m eta \u001b[36m0:00:00\u001b[0m\n",
            "\u001b[2K   \u001b[90m━━━━━━━━━━━━━━━━━━━━━━━━━━━━━━━━━━━━━━━━\u001b[0m \u001b[32m211.5/211.5 MB\u001b[0m \u001b[31m5.5 MB/s\u001b[0m eta \u001b[36m0:00:00\u001b[0m\n",
            "\u001b[2K   \u001b[90m━━━━━━━━━━━━━━━━━━━━━━━━━━━━━━━━━━━━━━━━\u001b[0m \u001b[32m56.3/56.3 MB\u001b[0m \u001b[31m13.1 MB/s\u001b[0m eta \u001b[36m0:00:00\u001b[0m\n",
            "\u001b[2K   \u001b[90m━━━━━━━━━━━━━━━━━━━━━━━━━━━━━━━━━━━━━━━━\u001b[0m \u001b[32m127.9/127.9 MB\u001b[0m \u001b[31m7.5 MB/s\u001b[0m eta \u001b[36m0:00:00\u001b[0m\n",
            "\u001b[2K   \u001b[90m━━━━━━━━━━━━━━━━━━━━━━━━━━━━━━━━━━━━━━━━\u001b[0m \u001b[32m207.5/207.5 MB\u001b[0m \u001b[31m5.5 MB/s\u001b[0m eta \u001b[36m0:00:00\u001b[0m\n",
            "\u001b[2K   \u001b[90m━━━━━━━━━━━━━━━━━━━━━━━━━━━━━━━━━━━━━━━━\u001b[0m \u001b[32m21.1/21.1 MB\u001b[0m \u001b[31m105.2 MB/s\u001b[0m eta \u001b[36m0:00:00\u001b[0m\n",
            "\u001b[?25h  Building wheel for openai-whisper (pyproject.toml) ... \u001b[?25l\u001b[?25hdone\n"
          ]
        }
      ]
    },
    {
      "cell_type": "code",
      "source": [
        "import whisper\n",
        "\n",
        "# Load the Whisper model (base or small are good options)\n",
        "model = whisper.load_model(\"base\")  # or \"small\" for better accuracy\n",
        "\n",
        "# Path to your video inside Google Drive\n",
        "video_path = \"/content/drive/MyDrive/ArabicVideoSummariser/videos/News1.mp4\"\n",
        "\n",
        "# Run transcription\n",
        "result = model.transcribe(video_path)\n",
        "\n",
        "# Show transcript\n",
        "print(result['text'])"
      ],
      "metadata": {
        "colab": {
          "base_uri": "https://localhost:8080/"
        },
        "id": "4ohmf8d9k0je",
        "outputId": "bc7f98ae-8330-4546-8d71-7b9df0afc424"
      },
      "execution_count": 11,
      "outputs": [
        {
          "output_type": "stream",
          "name": "stdout",
          "text": [
            " ستعالي، ستعالي مراطعه ستعالي السلطين والعيئ أنا الحقفة حية أنا سنة 70 سنة باشتغل ونعندي 22 سنة في الميئنة جي أنا ملكة السروجية الحقفة حية من حيا عددين اختارت مهنة كانت مكتصرة بس على الرجل وكسر ديها كل الحوائج الزغيارة المفهيم المتوارس عبر الأجل وبالوشدي بايترومز للصموت والتحدي أنا قصرت القوال أنا نفسب أسروبي فبأتسروب مش شغلت سرجلة لأن أنا قررت أن نبأسات توراجل في نفس الواضح أشتغلها بإيد وفك وربط وفك طبلون وفك عربية فك قرسي لا زمع من كل دم شنعة تطفد مخي لا زم بكد إن أنا ست بأي جوني زبان كتير هاي زيني تعملوا مع ستدية يشوفت عملوا من زي لأأن ستجو قداموا بميت راجل فبأي تعملوا معه من سوغر الغايد الوأتش كل تعملوا مع الرجالة فخدت انتبعر الرجالة شغلانة جي من أول مدخلتا واللا زم بأجمد فيها تول منها ست ومعاية فريق عمل البار Might be a fit for the cemetery شية fertility كنت صحيpect ker of that بمissippi عمل نحن المقرب بذراعة икомة مد guerre كنتgt���ت forte نحن الم�خ*** الي كان ينعаныться على أنه يعلوم منها الثنع الحفوضا من SOMENT الوشن و dirigه السهوank لن تثيب Zweek و effort to time ومعلم في شفر ابنو ومحدش منهم بحثن جغيل تحت إيد وحدثت إحنا هل لو قلوا راقل يحن مش نشان مع زي ما يفسين نبكت شغيل بعلي<|id|> يعني تبقى وفسنة الوصفة سنعيه وشتغل البيديه تعد على مكانه وكذين هدس لينة يعني دمانو ورونة هدف يغلت بردوما بالدائوش بردو التغضوه واحدة واحدة واحد يعني مردوما بتزعش عابد عصاب كتير وكزعي كتير هدفة يخيف علينا خيفر دعو على على على شغلاء في مساء أخر النهار المسنة عبد النظلمين عدما سؤال يجبيره أنا بتعامل معيقومي في البيت و here في العامل يعني بطلع من البيت سابومي بغخشه لنا الورشاء جايلومي كلومو ليدي من تشان تحب ببر البن آدم في الشغلة لازم تغضيه يعني في حماكي أحلى حاجة فيهم النوم أنا عالمتومي الحب إن يحبوا الشغلةهم بعملون ولايض الحاجة فتحية كمان بيستغلوا معيق برغم النهومة تخرجوا من الغما إلا النهوم حبوا المهن الذيو قرروا النهومي استغلوا معيق لازم نبأسايبين ورونة رجالة بشيقولوا الحاجة ماتيتو سيب ورونة عيال شرفة تدير المكان بشي سيلا تبقى دائرون شاء الله إنه مومتي حاجة أنا خوث إنه واحدة صاحبت مكان وعنا الشغرين مدرسة كانت جنب المكان الشغر كنا بنخلص ونخرج على هناك زي نزاق يحد الشغر صفتنا انت علمت من والديدي إنه مقدر شماس أولي أنا شايف حاجة واحدة رسف الدنيا إنه عيسك تسنى دروجي تبهية كواجد وعيسانة دي تولدي كروجل فهي بالتلعت باقو مفي الشغل بيأسر على انوسة يستيسة ورغران فأمر اللي يستيسة مبتيتاصة أو انوسة بتاتعبت تتاصة الانوسة بتعب بتجزي بالرغل لها وزا تصر عليها في كتسيسة كتزوga وام في نفس الواقع وباشداج الواعملة وبنفس اليد للتشتغل في العربيات هي اللي بالدوي والتبوتوض بخشان تخلق جودي في تحضن بيأولدها وأحفادها ودل لبمايز الحجفة هي اللي نحفال أن أدر تويداً للرلاف الورشة ووجدها كأم موجدة محفظ على العدات والتقاليد المصرية الأصيلة في نفس الواقع عدد دوي؟ تعال عدد دوي نشف في الشوهلة في بيتي هاجة تليل نحفد يدول للمروحة روحي روحي روحي وما كل هذا من نسيتش أنها تعلم أحفادها وخصوصاً البنات إنهم يؤفو أدام أي تحاضي عشان يحاءه هدفهم بعض وأصرور بقول لجانة أوقت خيسي تلعي كوية لحنشفة عشان نشف يتحكالي وبتنبر ما تقش علينا يعرفني ستل المصريع ليهف أي حيجة أي حيجة أو ستل عملوقة ستل صبورة إن كل ما تصبر ربنا بيرزاء ومسيف نفسي إننا أخرتي هاتف أزيش من الحمد لله الحمد لله لكل كفاح حكية والكل حكية بطل يروح الحكية والحكية حكية الحقية الحققة فتحية إلا أصبتت أن النجاح مش مقطسر على الرغل لكن النجاح مكتوب لأي إنسان عنده شغف لنوصول هذا فى من غير متوقافة أي حوية ويجز مكتمعي ويجز مكتوب ويجز مكتوب ويجز مكتوب ويجز مكتوب\n"
          ]
        }
      ]
    }
  ]
}